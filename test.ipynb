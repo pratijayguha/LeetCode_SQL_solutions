{
 "cells": [
  {
   "cell_type": "code",
   "execution_count": 25,
   "metadata": {},
   "outputs": [],
   "source": [
    "nums = [-1,0,1,2,-1,-4]\n",
    "target = 0\n",
    "\n",
    "def test(numbers, target):\n",
    "    nums.sort()\n",
    "\n",
    "test(nums, target)"
   ]
  },
  {
   "cell_type": "code",
   "execution_count": 42,
   "metadata": {},
   "outputs": [
    {
     "name": "stdout",
     "output_type": "stream",
     "text": [
      "0 0\n",
      "1 0\n",
      "2 0\n"
     ]
    },
    {
     "data": {
      "text/plain": [
       "4"
      ]
     },
     "execution_count": 42,
     "metadata": {},
     "output_type": "execute_result"
    }
   ],
   "source": [
    "height = [0,1,0,2,1,0,1,3,2,1,2,1]\n",
    "\n",
    "total_count = 0\n",
    "\n",
    "for level in range(max(height)):\n",
    "    flag = False\n",
    "    count = 0\n",
    "    print(level, count)\n",
    "    for i, n in enumerate(height):\n",
    "        if flag is False:\n",
    "            if n > level and height[n-1]<=level: flag = True\n",
    "            else: continue\n",
    "        else:\n",
    "            if n > level: flag = False\n",
    "            else: count += 1\n",
    "    if flag is False: total_count += count\n",
    "total_count"
   ]
  },
  {
   "cell_type": "code",
   "execution_count": 62,
   "metadata": {},
   "outputs": [
    {
     "name": "stdout",
     "output_type": "stream",
     "text": [
      "A 2 2 1 {'A': 1}\n",
      "A 2 3 2 {'A': 2}\n",
      "AA 3 3 2 {'A': 2}\n",
      "AA 3 3 2 {'A': 2, 'B': 1}\n",
      "AAB 4 3 2 {'A': 2, 'B': 1}\n",
      "AAB 4 4 3 {'A': 3, 'B': 1}\n",
      "AABA 5 4 3 {'A': 3, 'B': 1}\n",
      "BA 3 3 2 {'A': 1, 'B': 2}\n",
      "BAB 4 3 2 {'A': 1, 'B': 2}\n",
      "BAB 4 4 3 {'A': 1, 'B': 3}\n",
      "BABB 5 4 3 {'A': 1, 'B': 3}\n",
      "BB 3 3 2 {'A': 1, 'B': 2}\n"
     ]
    },
    {
     "data": {
      "text/plain": [
       "4"
      ]
     },
     "execution_count": 62,
     "metadata": {},
     "output_type": "execute_result"
    }
   ],
   "source": [
    "s = \"AABABBA\"\n",
    "k = 1\n",
    "\n",
    "start = 0\n",
    "end = 1\n",
    "counter = {s[0]: 1}\n",
    "max_len = 0\n",
    "\n",
    "while end < len(s):\n",
    "    print(s[start:end], end-start+1, max(counter.values()) + k, max(counter.values()), counter)\n",
    "    counter[s[end]] = counter.get(s[end],0) + 1\n",
    "    while end-start+1 - max(counter.values()) > k:\n",
    "        counter[s[start]]-=1\n",
    "        start+=1\n",
    "    max_len = max(max_len, end - start + 1)\n",
    "    print(s[start:end], end-start+1, max(counter.values()) + k, max(counter.values()), counter)\n",
    "\n",
    "    end+=1\n",
    "\n",
    "max_len"
   ]
  },
  {
   "cell_type": "code",
   "execution_count": 40,
   "metadata": {},
   "outputs": [
    {
     "data": {
      "text/plain": [
       "dict_values([1])"
      ]
     },
     "execution_count": 40,
     "metadata": {},
     "output_type": "execute_result"
    }
   ],
   "source": []
  },
  {
   "cell_type": "code",
   "execution_count": 12,
   "metadata": {},
   "outputs": [
    {
     "data": {
      "text/plain": [
       "3"
      ]
     },
     "execution_count": 12,
     "metadata": {},
     "output_type": "execute_result"
    }
   ],
   "source": [
    "class Solution:\n",
    "    def lengthOfLongestSubstring(self, s: str) -> int:\n",
    "        seen = set(s[0])\n",
    "        max_len = 0\n",
    "\n",
    "        start, end = 0,1\n",
    "\n",
    "        while end < len(s):\n",
    "            if s[end] not in seen:\n",
    "                seen.add(s[end])\n",
    "            else:\n",
    "                while start<=end:\n",
    "                    if s[start]!=s[end]: start+=1\n",
    "                    else:\n",
    "                        start+=1 \n",
    "                        break\n",
    "            end+=1\n",
    "        return max_len = max(max_len, end-start)"
   ]
  },
  {
   "cell_type": "code",
   "execution_count": null,
   "metadata": {},
   "outputs": [],
   "source": []
  }
 ],
 "metadata": {
  "kernelspec": {
   "display_name": "base",
   "language": "python",
   "name": "python3"
  },
  "language_info": {
   "codemirror_mode": {
    "name": "ipython",
    "version": 3
   },
   "file_extension": ".py",
   "mimetype": "text/x-python",
   "name": "python",
   "nbconvert_exporter": "python",
   "pygments_lexer": "ipython3",
   "version": "3.8.16"
  },
  "orig_nbformat": 4
 },
 "nbformat": 4,
 "nbformat_minor": 2
}
